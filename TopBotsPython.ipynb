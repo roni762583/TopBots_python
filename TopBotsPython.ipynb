{
  "nbformat": 4,
  "nbformat_minor": 0,
  "metadata": {
    "colab": {
      "name": "TopBotsPython.ipynb",
      "provenance": [],
      "authorship_tag": "ABX9TyM/exvy9z2IC2MnfCFQ6Mqi",
      "include_colab_link": true
    },
    "kernelspec": {
      "name": "python3",
      "display_name": "Python 3"
    }
  },
  "cells": [
    {
      "cell_type": "markdown",
      "metadata": {
        "id": "view-in-github",
        "colab_type": "text"
      },
      "source": [
        "<a href=\"https://colab.research.google.com/github/roni762583/TopBots_python/blob/main/TopBotsPython.ipynb\" target=\"_parent\"><img src=\"https://colab.research.google.com/assets/colab-badge.svg\" alt=\"Open In Colab\"/></a>"
      ]
    },
    {
      "cell_type": "code",
      "metadata": {
        "id": "HJeo6RzTTPXP"
      },
      "source": [
        "# TopBots\n",
        "# make pd df from json\n",
        "Candles_H_df = json_to_pandas(response2)\n",
        "\n",
        "# start analysind Candles_H_df and get ready to feed into NN predict High, and Low of next hourly bar\n",
        "# part 1 of top bots\n",
        "\n",
        "# get price inflection locations X 1/hours ago\n",
        "inflections = list()\n",
        "inflection = ''\n",
        "n = 0\n",
        "c = 0\n",
        "for indx in Candles_H_df.index:\n",
        "  if (n<=2):\n",
        "    n+=1\n",
        "    continue\n",
        "  h2 = Candles_H_df['high'][n-2] # starts at index 0\n",
        "  h1 = Candles_H_df['high'][n-1]\n",
        "  h = Candles_H_df['high'][n]\n",
        "  \n",
        "  l2 = Candles_H_df['low'][n-2] # starts at index 0\n",
        "  l1 = Candles_H_df['low'][n-1]\n",
        "  l = Candles_H_df['low'][n]\n",
        "\n",
        "  if(h1>h and h1>h2):\n",
        "    #print(inflections[-1])\n",
        "    #if(inflections[-1][1] == 'H' and inflections[-1][2]<h1): # fix this to only record highest high in consecutive 'H's\n",
        "    inflection = 'H'\n",
        "    \n",
        "  if(l1<l and l1<l2):\n",
        "    if not inflection:\n",
        "      inflection = 'L'\n",
        "    else:\n",
        "      # supposed to ensure inflections alternate 'H' and 'L'\n",
        "      inflection = 'H' if (inflections[-1][1] == 'L') else 'L'\n",
        "      #c+=1\n",
        "      #print(c) # it works 68 times\n",
        "  \n",
        "  price = Candles_H_df['high'][n-1] if(inflection=='H') else Candles_H_df['low'][n-1]\n",
        "  if inflection:\n",
        "    inflections.append( (Candles_H_df.index[n]+pd.DateOffset(hours=-1) ,inflection,price) ) #time index is 1 hr ahead\n",
        "    #print(Candles_H_df.index[n])\n",
        "    #print(Candles_H_df.index[n]+pd.DateOffset(hours=-1))\n",
        "    #print(indx, inflection, price)\n",
        "  \n",
        "  n+=1\n",
        "  inflection = ''\n",
        "\n",
        "# part 2 - clean up repeating inflections\n",
        "inflectionsToDelete = list()\n",
        "for i in range(1,len(inflections)-1):\n",
        "  #print (i, '   ', inflections[i][1])\n",
        "  if(inflections[i][1] ==  inflections[i-1][1]): #if repeating inflection found, get rid of consecitive 'L's\n",
        "    #print (i, inflections[i][1], inflections[i-1][1])\n",
        "    if(inflections[i][1] == 'L'):\n",
        "      #print (type(inflections[i][2]))\n",
        "      if(inflections[i][2] > inflections[i-1][2]): # if new inflection is lower low, choose it instead of prev. inflection\n",
        "        #print (i, inflections[i][1], inflections[i-1][1])\n",
        "        inflectionsToDelete.append(inflections[i])\n",
        "\n",
        "    # get rid of consecitive 'H's\n",
        "    if(inflections[i][1] == 'H'):\n",
        "      \n",
        "      if(inflections[i][2] < inflections[i-1][2]): # if new inflection is higher high, choose it instead of prev. inflection\n",
        "        inflectionsToDelete.append(inflections[i])\n",
        "# some repeating inflections, but many have been removed, this can be further debugged later\n",
        "print('len(inflections) = ', len(inflections))\n",
        "inflections = [x for x in inflections if x not in inflectionsToDelete]\n",
        "print('len(inflections) after delete ', len(inflections))"
      ],
      "execution_count": null,
      "outputs": []
    }
  ]
}